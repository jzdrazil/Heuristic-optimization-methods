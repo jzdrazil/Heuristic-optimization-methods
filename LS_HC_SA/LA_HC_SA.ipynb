{
 "cells": [
  {
   "cell_type": "code",
   "execution_count": 269,
   "id": "a3a77ad4",
   "metadata": {},
   "outputs": [],
   "source": [
    "import numpy as np\n",
    "import pandas as pd\n",
    "import matplotlib.pyplot as plt\n",
    "import matplotlib as mpl\n",
    "import random as rn"
   ]
  },
  {
   "cell_type": "code",
   "execution_count": 270,
   "id": "b9e70551",
   "metadata": {},
   "outputs": [],
   "source": [
    "n_d = 10"
   ]
  },
  {
   "cell_type": "markdown",
   "id": "21def427",
   "metadata": {},
   "source": [
    "# FX"
   ]
  },
  {
   "cell_type": "code",
   "execution_count": 271,
   "id": "e6285d8d",
   "metadata": {},
   "outputs": [],
   "source": [
    "def Fx_Sphere(arr):\n",
    "    arr = np.sum(np.power(arr,2))\n",
    "    return arr\n",
    "def Schwefel_Fx(arr):\n",
    "    arr = 418.9829*10-np.sum(arr*np.sin(np.sqrt(np.abs(arr))))\n",
    "    return arr\n",
    "def Ackley_Fx(arr):\n",
    "    arr = -20*np.exp(-0.2*np.sqrt((1/10)*np.sum(np.power(arr,2))))-np.exp((1/10)*np.sum(np.cos(2*np.pi*arr)))+20+np.exp(1)\n",
    "    return arr"
   ]
  },
  {
   "cell_type": "markdown",
   "id": "e5b5850f",
   "metadata": {},
   "source": [
    "# LS"
   ]
  },
  {
   "cell_type": "code",
   "execution_count": 272,
   "id": "ada37c20",
   "metadata": {},
   "outputs": [],
   "source": [
    "def init(lef_lim, rig_lim,n_d,init_val):\n",
    "    arr = np.empty(0)\n",
    "    for i in range(n_d):\n",
    "        arr = np.insert(arr,i,init_val)\n",
    "        arr = np.where(arr>lef_lim,lef_lim,arr)\n",
    "        arr = np.where(arr<rig_lim,rig_lim,arr)\n",
    "    return arr\n",
    "\n",
    "def area_g(arr,lef_lim,rig_lim):\n",
    "    area_f = np.empty(0)\n",
    "    for i in range(len(arr)):\n",
    "        mu, sig = arr[i], ((lef_lim-rig_lim)/100)*0.1\n",
    "        area = np.random.normal(mu,sig,9)\n",
    "        area = np.insert(area,0,mu)\n",
    "        area = np.where(area>lef_lim,lef_lim,area)\n",
    "        area = np.where(area<rig_lim,rig_lim,area)\n",
    "        area_f = np.append(area_f,area)\n",
    "    return area_f\n",
    "\n",
    "def search0(n_it,Fx_presc,n_d,lef_lim,rig_lim,init_val):\n",
    "    B_sol_res = [ ]\n",
    "    arr = init(lef_lim,rig_lim,n_d,init_val)\n",
    "    B_sol = Fx_presc(arr)\n",
    "    for it in range(n_it):\n",
    "        arr = area_g(arr,lef_lim,rig_lim)\n",
    "        arr_step = np.empty(0)\n",
    "        for dim in range(n_d):\n",
    "            arr1 = arr[dim*10:(dim+1)*10]\n",
    "            arr2 = np.empty(0)\n",
    "            for i in arr1:\n",
    "                arr2 = np.append(arr2,Fx_presc(i))\n",
    "            arr_dic = dict(zip(arr1,arr2))\n",
    "            step = min(arr_dic.items(), key=lambda x: x[1])\n",
    "            arr_step = np.append(arr_step,step[0])\n",
    "        arr = arr_step\n",
    "        if B_sol > Fx_presc(arr):\n",
    "            B_sol = Fx_presc(arr)\n",
    "        B_sol_res.append(B_sol)\n",
    "        \n",
    "    return B_sol_res"
   ]
  },
  {
   "cell_type": "code",
   "execution_count": 273,
   "id": "b26f5d49",
   "metadata": {},
   "outputs": [],
   "source": [
    "B_sol_res_LS_SP = search0(1000,Fx_Sphere,10,5,-5,4.5)"
   ]
  },
  {
   "cell_type": "code",
   "execution_count": 274,
   "id": "4442f87a",
   "metadata": {},
   "outputs": [],
   "source": [
    "B_sol_res_LS_Sch = search0(1000,Schwefel_Fx,10,500,-500,50)"
   ]
  },
  {
   "cell_type": "code",
   "execution_count": 275,
   "id": "a3cf2346",
   "metadata": {},
   "outputs": [],
   "source": [
    "B_sol_res_LS_Ack = search0(1000,Ackley_Fx,10,32.768,-32.768,30)"
   ]
  },
  {
   "cell_type": "markdown",
   "id": "6e0b7082",
   "metadata": {},
   "source": [
    "stats"
   ]
  },
  {
   "cell_type": "code",
   "execution_count": 276,
   "id": "02bc3027",
   "metadata": {},
   "outputs": [],
   "source": [
    "B_sol_res_LS_SP_st_res = [ ]\n",
    "B_sol_res_LS_Sch_st_res = [ ]\n",
    "B_sol_res_LS_Ack_st_res = [ ]\n",
    "for i in range(30):\n",
    "    B_sol_res_LS_SP_st = search0(1000,Fx_Sphere,10,5,-5,4.5)\n",
    "    B_sol_res_LS_SP_st_res.append(B_sol_res_LS_SP_st[-1])\n",
    "    B_sol_res_LS_Sch_st = search0(1000,Schwefel_Fx,10,500,-500,50)\n",
    "    B_sol_res_LS_Sch_st_res.append(B_sol_res_LS_Sch_st[-1])\n",
    "    B_sol_res_LS_Ack = search0(1000,Ackley_Fx,10,32.768,-32.768,30)\n",
    "    B_sol_res_LS_Ack_st_res.append(B_sol_res_LS_Ack[-1])"
   ]
  },
  {
   "cell_type": "markdown",
   "id": "76db5ce1",
   "metadata": {},
   "source": [
    "# HC"
   ]
  },
  {
   "cell_type": "code",
   "execution_count": 277,
   "id": "983d3f19",
   "metadata": {},
   "outputs": [],
   "source": [
    "def init(lef_lim, rig_lim,n_d,init_val):\n",
    "    arr = np.empty(0)\n",
    "    for i in range(n_d):\n",
    "        arr = np.insert(arr,i,init_val)\n",
    "        arr = np.where(arr>lef_lim,lef_lim,arr)\n",
    "        arr = np.where(arr<rig_lim,rig_lim,arr)\n",
    "    return arr\n",
    "\n",
    "def area_g(arr,lef_lim, rig_lim):\n",
    "    area_f = np.empty(0)\n",
    "    for i in range(len(arr)):\n",
    "        mu, sig = arr[i], ((lef_lim-rig_lim)/100)*3\n",
    "        area = np.random.normal(mu,sig,10)\n",
    "        area = np.where(area>lef_lim,lef_lim,area)\n",
    "        area = np.where(area<rig_lim,rig_lim,area)\n",
    "        area_f = np.append(area_f,area)\n",
    "    return area_f\n",
    "\n",
    "def search1(n_it,Fx_presc,n_d,lef_lim,rig_lim,init_val):\n",
    "    B_sol_res = [ ]\n",
    "    arr = init(lef_lim,rig_lim,n_d,init_val)\n",
    "    B_sol = Fx_presc(arr)\n",
    "    for it in range(n_it):\n",
    "        arr = area_g(arr,lef_lim, rig_lim)\n",
    "        arr_step = np.empty(0)\n",
    "        for dim in range(n_d):\n",
    "            arr1 = arr[dim*10:(dim+1)*10]\n",
    "            arr2 = np.empty(0)\n",
    "            for i in arr1:\n",
    "                arr2 = np.append(arr2,Fx_presc(i))\n",
    "            arr_dic = dict(zip(arr1,arr2))\n",
    "            step = min(arr_dic.items(), key=lambda x: x[1])\n",
    "            arr_step = np.append(arr_step,step[0])\n",
    "        arr = arr_step\n",
    "        B_sol = Fx_presc(arr)\n",
    "        B_sol_res.append(B_sol)\n",
    "    return B_sol_res"
   ]
  },
  {
   "cell_type": "code",
   "execution_count": 278,
   "id": "9aa5a2dd",
   "metadata": {},
   "outputs": [],
   "source": [
    "B_sol_res_HC_SP = search1(1000,Fx_Sphere,10,5,-5,4.5)"
   ]
  },
  {
   "cell_type": "code",
   "execution_count": 279,
   "id": "a41381b9",
   "metadata": {},
   "outputs": [],
   "source": [
    "B_sol_res_HC_Sch = search1(1000,Schwefel_Fx,10,500,-500,50)"
   ]
  },
  {
   "cell_type": "code",
   "execution_count": 280,
   "id": "5b5c1f04",
   "metadata": {},
   "outputs": [],
   "source": [
    "B_sol_res_HC_Ack = search1(1000,Ackley_Fx,10,32.768,-32.768,30)"
   ]
  },
  {
   "cell_type": "code",
   "execution_count": 281,
   "id": "8e9a3f9f",
   "metadata": {},
   "outputs": [],
   "source": [
    "B_sol_res_HC_SP_st_res = [ ]\n",
    "B_sol_res_HC_Sch_st_res = [ ]\n",
    "B_sol_res_HC_Ack_st_res = [ ]\n",
    "for i in range(30):\n",
    "    B_sol_res_HC_SP_st = search1(1000,Fx_Sphere,10,5,-5,4.5)\n",
    "    B_sol_res_HC_SP_st_res.append(B_sol_res_HC_SP_st[-1])\n",
    "    B_sol_res_HC_Sch_st = search1(1000,Schwefel_Fx,10,500,-500,50)\n",
    "    B_sol_res_HC_Sch_st_res.append(B_sol_res_HC_Sch_st[-1])\n",
    "    B_sol_res_HC_Ack = search1(1000,Ackley_Fx,10,32.768,-32.768,30)\n",
    "    B_sol_res_HC_Ack_st_res.append(B_sol_res_HC_Ack[-1])"
   ]
  },
  {
   "cell_type": "markdown",
   "id": "f2933a1b",
   "metadata": {},
   "source": [
    "# SA"
   ]
  },
  {
   "cell_type": "code",
   "execution_count": 282,
   "id": "1254eebd",
   "metadata": {},
   "outputs": [],
   "source": [
    "def init(lef_lim, rig_lim,n_d,init_val):\n",
    "    arr = np.empty(0)\n",
    "    for i in range(n_d):\n",
    "        arr = np.insert(arr,i,init_val)\n",
    "        arr = np.where(arr>lef_lim,lef_lim,arr)\n",
    "        arr = np.where(arr<rig_lim,rig_lim,arr)\n",
    "    return arr\n",
    "\n",
    "def area_g(arr,i,lef_lim, rig_lim,t_0):\n",
    "    area_f = np.empty(0)\n",
    "    for i in range(len(arr)):\n",
    "        mu, sig = arr[i],abs((t_0-0.7*i)/150)\n",
    "        area = np.random.normal(mu,sig,1)\n",
    "        area = np.where(area>lef_lim,lef_lim,area)\n",
    "        area = np.where(area<rig_lim,rig_lim,area)\n",
    "        area_f = np.append(area_f,area)\n",
    "    return area_f\n",
    "\n",
    "def search2(t_0,t_end,n_d,Fx_presc,lef_lim,rig_lim,init_val):\n",
    "    B_sol_list = [ ]\n",
    "    B_sol = np.empty(0)\n",
    "    n_nei = 10\n",
    "    arr = init(lef_lim,rig_lim,n_d,init_val)\n",
    "    B_sol = Fx_presc(arr)\n",
    "    for i in range(1000):\n",
    "        for nei in range(n_nei):\n",
    "            nei_g = area_g(arr,i,lef_lim, rig_lim,t_0)\n",
    "            delta_fx = Fx_presc(nei_g)-Fx_presc(arr)\n",
    "            if delta_fx<0:\n",
    "                arr = nei_g\n",
    "            if Fx_presc(nei_g) < Fx_presc(B_sol):\n",
    "                B_sol = nei_g\n",
    "            else:\n",
    "                r = rn.uniform(0, 1)\n",
    "                if r< np.power(np.e,-delta_fx/t_0):\n",
    "                    arr = nei_g\n",
    "        B_sol_list.append(Fx_presc(B_sol))\n",
    "        t_0 = t_0-0.7*i\n",
    "    return B_sol_list"
   ]
  },
  {
   "cell_type": "code",
   "execution_count": 283,
   "id": "19bc41b5",
   "metadata": {},
   "outputs": [],
   "source": [
    "B_sol_res_SA_SP = search2(700,0,10,Fx_Sphere,5,-5,4.5)"
   ]
  },
  {
   "cell_type": "code",
   "execution_count": 284,
   "id": "22f8e835",
   "metadata": {},
   "outputs": [],
   "source": [
    "B_sol_res_SA_Sch = search2(700,0,10,Schwefel_Fx,500,-500,50)"
   ]
  },
  {
   "cell_type": "code",
   "execution_count": 285,
   "id": "41daf865",
   "metadata": {},
   "outputs": [],
   "source": [
    "B_sol_res_SA_Ack = search2(700,0,10,Ackley_Fx,32.768,-32.768,30)"
   ]
  },
  {
   "cell_type": "code",
   "execution_count": 286,
   "id": "6e19a250",
   "metadata": {},
   "outputs": [],
   "source": [
    "B_sol_res_SA_SP_st_res = [ ]\n",
    "B_sol_res_SA_Sch_st_res = [ ]\n",
    "B_sol_res_SA_Ack_st_res = [ ]\n",
    "for i in range(30):\n",
    "    B_sol_res_SA_SP_st = search2(700,0,10,Fx_Sphere,5,-5,4.5)\n",
    "    B_sol_res_SA_SP_st_res.append(B_sol_res_SA_SP_st[-1])\n",
    "    B_sol_res_SA_Sch_st = search2(700,0,10,Schwefel_Fx,500,-500,50)\n",
    "    B_sol_res_SA_Sch_st_res.append(B_sol_res_SA_Sch_st[-1])\n",
    "    B_sol_res_SA_Ack = search2(700,0,10,Ackley_Fx,32.768,-32.768,30)\n",
    "    B_sol_res_SA_Ack_st_res.append(B_sol_res_SA_Ack[-1])"
   ]
  },
  {
   "cell_type": "markdown",
   "id": "ecbd2ac9",
   "metadata": {},
   "source": [
    "# Sphere results"
   ]
  },
  {
   "cell_type": "code",
   "execution_count": 287,
   "id": "f4aa6df9",
   "metadata": {},
   "outputs": [
    {
     "data": {
      "image/png": "[encoded data removed]",
      "text/plain": [
       "<Figure size 432x288 with 1 Axes>"
      ]
     },
     "metadata": {
      "needs_background": "light"
     },
     "output_type": "display_data"
    }
   ],
   "source": [
    "plt.plot(B_sol_res_SA_SP,color = 'red',label='SA')\n",
    "plt.plot(B_sol_res_HC_SP,color = 'green',label='HC')\n",
    "plt.plot(B_sol_res_LS_SP,color ='blue',label='LS')\n",
    "plt.xlim(-20,1020)\n",
    "plt.yscale('log',base =10)\n",
    "plt.legend()\n",
    "plt.show()"
   ]
  },
  {
   "cell_type": "code",
   "execution_count": 288,
   "id": "13570199",
   "metadata": {},
   "outputs": [
    {
     "data": {
      "text/html": [
       "<div>\n",
       "<style scoped>\n",
       "    .dataframe tbody tr th:only-of-type {\n",
       "        vertical-align: middle;\n",
       "    }\n",
       "\n",
       "    .dataframe tbody tr th {\n",
       "        vertical-align: top;\n",
       "    }\n",
       "\n",
       "    .dataframe thead th {\n",
       "        text-align: right;\n",
       "    }\n",
       "</style>\n",
       "<table border=\"1\" class=\"dataframe\">\n",
       "  <thead>\n",
       "    <tr style=\"text-align: right;\">\n",
       "      <th></th>\n",
       "      <th>Algorithm</th>\n",
       "      <th>Min</th>\n",
       "      <th>Max</th>\n",
       "      <th>Mean</th>\n",
       "      <th>Median</th>\n",
       "      <th>STD</th>\n",
       "    </tr>\n",
       "  </thead>\n",
       "  <tbody>\n",
       "    <tr>\n",
       "      <th>0</th>\n",
       "      <td>LS</td>\n",
       "      <td>1.3745453861797375e-11</td>\n",
       "      <td>2.0415483208328712e-10</td>\n",
       "      <td>7.906613370756528e-11</td>\n",
       "      <td>7.113722447145401e-11</td>\n",
       "      <td>4.9860806134296795e-11</td>\n",
       "    </tr>\n",
       "    <tr>\n",
       "      <th>1</th>\n",
       "      <td>HC</td>\n",
       "      <td>0.002124476754762126</td>\n",
       "      <td>0.07006507880326639</td>\n",
       "      <td>0.026320008312042842</td>\n",
       "      <td>0.020976405977823596</td>\n",
       "      <td>0.016213558053594132</td>\n",
       "    </tr>\n",
       "    <tr>\n",
       "      <th>2</th>\n",
       "      <td>SA</td>\n",
       "      <td>22.702867296735363</td>\n",
       "      <td>55.04636409786013</td>\n",
       "      <td>38.8868324576546</td>\n",
       "      <td>41.27541028671064</td>\n",
       "      <td>9.74662245286863</td>\n",
       "    </tr>\n",
       "  </tbody>\n",
       "</table>\n",
       "</div>"
      ],
      "text/plain": [
       "  Algorithm                     Min                     Max  \\\n",
       "0        LS  1.3745453861797375e-11  2.0415483208328712e-10   \n",
       "1        HC    0.002124476754762126     0.07006507880326639   \n",
       "2        SA      22.702867296735363       55.04636409786013   \n",
       "\n",
       "                    Mean                 Median                     STD  \n",
       "0  7.906613370756528e-11  7.113722447145401e-11  4.9860806134296795e-11  \n",
       "1   0.026320008312042842   0.020976405977823596    0.016213558053594132  \n",
       "2       38.8868324576546      41.27541028671064        9.74662245286863  "
      ]
     },
     "execution_count": 288,
     "metadata": {},
     "output_type": "execute_result"
    }
   ],
   "source": [
    "B_sol_res_LS_SP_st_res\n",
    "B_sol_res_HC_SP_st_res\n",
    "B_sol_res_SA_SP_st_res\n",
    "\n",
    "columns_lab = ['Algorithm','Min','Max','Mean','Median','STD']\n",
    "labels = np.array(['LS','HC','SA'])\n",
    "Min = np.array([np.min(B_sol_res_LS_SP_st_res),np.min(B_sol_res_HC_SP_st_res),np.min(B_sol_res_SA_SP_st_res)])\n",
    "Max = np.array([np.max(B_sol_res_LS_SP_st_res),np.max(B_sol_res_HC_SP_st_res),np.max(B_sol_res_SA_SP_st_res)])\n",
    "Mean = np.array([np.mean(B_sol_res_LS_SP_st_res),np.mean(B_sol_res_HC_SP_st_res),np.mean(B_sol_res_SA_SP_st_res)])\n",
    "Median = np.array([np.median(B_sol_res_LS_SP_st_res),np.median(B_sol_res_HC_SP_st_res),np.median(B_sol_res_SA_SP_st_res)])\n",
    "STD = np.array([np.std(B_sol_res_LS_SP_st_res),np.std(B_sol_res_HC_SP_st_res),np.std(B_sol_res_SA_SP_st_res)])\n",
    "data = np.vstack([labels,Min,Max,Mean,Median,STD])\n",
    "df = pd.DataFrame(data)\n",
    "df = df.T\n",
    "df.columns = columns_lab\n",
    "df"
   ]
  },
  {
   "cell_type": "markdown",
   "id": "af28d6c4",
   "metadata": {},
   "source": [
    "# Schwefel results"
   ]
  },
  {
   "cell_type": "code",
   "execution_count": 289,
   "id": "3732c41e",
   "metadata": {},
   "outputs": [
    {
     "data": {
      "image/png": "[encoded data removed]",
      "text/plain": [
       "<Figure size 432x288 with 1 Axes>"
      ]
     },
     "metadata": {
      "needs_background": "light"
     },
     "output_type": "display_data"
    }
   ],
   "source": [
    "plt.plot(B_sol_res_SA_Sch,color = 'red',label='SA')\n",
    "plt.plot(B_sol_res_HC_Sch,color = 'green',label='HC')\n",
    "plt.plot(B_sol_res_LS_Sch,color ='blue',label='LS')\n",
    "plt.xlim(-20,1020)\n",
    "plt.legend()\n",
    "plt.show()"
   ]
  },
  {
   "cell_type": "code",
   "execution_count": 290,
   "id": "12cd06c6",
   "metadata": {},
   "outputs": [
    {
     "data": {
      "text/html": [
       "<div>\n",
       "<style scoped>\n",
       "    .dataframe tbody tr th:only-of-type {\n",
       "        vertical-align: middle;\n",
       "    }\n",
       "\n",
       "    .dataframe tbody tr th {\n",
       "        vertical-align: top;\n",
       "    }\n",
       "\n",
       "    .dataframe thead th {\n",
       "        text-align: right;\n",
       "    }\n",
       "</style>\n",
       "<table border=\"1\" class=\"dataframe\">\n",
       "  <thead>\n",
       "    <tr style=\"text-align: right;\">\n",
       "      <th></th>\n",
       "      <th>Algorithm</th>\n",
       "      <th>Min</th>\n",
       "      <th>Max</th>\n",
       "      <th>Mean</th>\n",
       "      <th>Median</th>\n",
       "      <th>STD</th>\n",
       "    </tr>\n",
       "  </thead>\n",
       "  <tbody>\n",
       "    <tr>\n",
       "      <th>0</th>\n",
       "      <td>LS</td>\n",
       "      <td>3553.47918049401</td>\n",
       "      <td>3553.479180623071</td>\n",
       "      <td>3553.479180535957</td>\n",
       "      <td>3553.4791805348905</td>\n",
       "      <td>2.8411452629035198e-08</td>\n",
       "    </tr>\n",
       "    <tr>\n",
       "      <th>1</th>\n",
       "      <td>HC</td>\n",
       "      <td>2174.0390253053056</td>\n",
       "      <td>2353.0330552231544</td>\n",
       "      <td>2229.4747479146886</td>\n",
       "      <td>2209.6228889499243</td>\n",
       "      <td>52.92177355640163</td>\n",
       "    </tr>\n",
       "    <tr>\n",
       "      <th>2</th>\n",
       "      <td>SA</td>\n",
       "      <td>1827.3577335254467</td>\n",
       "      <td>2269.9323387684112</td>\n",
       "      <td>2062.6898032887348</td>\n",
       "      <td>2058.8525912364767</td>\n",
       "      <td>111.43955803236787</td>\n",
       "    </tr>\n",
       "  </tbody>\n",
       "</table>\n",
       "</div>"
      ],
      "text/plain": [
       "  Algorithm                 Min                 Max                Mean  \\\n",
       "0        LS    3553.47918049401   3553.479180623071   3553.479180535957   \n",
       "1        HC  2174.0390253053056  2353.0330552231544  2229.4747479146886   \n",
       "2        SA  1827.3577335254467  2269.9323387684112  2062.6898032887348   \n",
       "\n",
       "               Median                     STD  \n",
       "0  3553.4791805348905  2.8411452629035198e-08  \n",
       "1  2209.6228889499243       52.92177355640163  \n",
       "2  2058.8525912364767      111.43955803236787  "
      ]
     },
     "execution_count": 290,
     "metadata": {},
     "output_type": "execute_result"
    }
   ],
   "source": [
    "B_sol_res_LS_Sch_st_res\n",
    "B_sol_res_HC_Sch_st_res\n",
    "B_sol_res_SA_Sch_st_res\n",
    "\n",
    "columns_lab = ['Algorithm','Min','Max','Mean','Median','STD']\n",
    "labels = np.array(['LS','HC','SA'])\n",
    "Min = np.array([np.min(B_sol_res_LS_Sch_st_res),np.min(B_sol_res_HC_Sch_st_res),np.min(B_sol_res_SA_Sch_st_res)])\n",
    "Max = np.array([np.max(B_sol_res_LS_Sch_st_res),np.max(B_sol_res_HC_Sch_st_res),np.max(B_sol_res_SA_Sch_st_res)])\n",
    "Mean = np.array([np.mean(B_sol_res_LS_Sch_st_res),np.mean(B_sol_res_HC_Sch_st_res),np.mean(B_sol_res_SA_Sch_st_res)])\n",
    "Median = np.array([np.median(B_sol_res_LS_Sch_st_res),np.median(B_sol_res_HC_Sch_st_res),np.median(B_sol_res_SA_Sch_st_res)])\n",
    "STD = np.array([np.std(B_sol_res_LS_Sch_st_res),np.std(B_sol_res_HC_Sch_st_res),np.std(B_sol_res_SA_Sch_st_res)])\n",
    "data = np.vstack([labels,Min,Max,Mean,Median,STD])\n",
    "df = pd.DataFrame(data)\n",
    "df = df.T\n",
    "df.columns = columns_lab\n",
    "df"
   ]
  },
  {
   "cell_type": "markdown",
   "id": "0c25576e",
   "metadata": {},
   "source": [
    "# Ackley results"
   ]
  },
  {
   "cell_type": "code",
   "execution_count": 291,
   "id": "5d19a0de",
   "metadata": {},
   "outputs": [
    {
     "data": {
      "image/png": "[encoded data removed]",
      "text/plain": [
       "<Figure size 432x288 with 1 Axes>"
      ]
     },
     "metadata": {
      "needs_background": "light"
     },
     "output_type": "display_data"
    }
   ],
   "source": [
    "plt.plot(B_sol_res_SA_Ack,color = 'red',label='SA')\n",
    "plt.plot(B_sol_res_HC_Ack,color = 'green',label='HC')\n",
    "plt.plot(B_sol_res_LS_Ack,color ='blue',label='LS')\n",
    "plt.xlim(-20,1020)\n",
    "plt.legend()\n",
    "plt.show()"
   ]
  },
  {
   "cell_type": "code",
   "execution_count": 292,
   "id": "63c5d9e7",
   "metadata": {},
   "outputs": [
    {
     "data": {
      "text/html": [
       "<div>\n",
       "<style scoped>\n",
       "    .dataframe tbody tr th:only-of-type {\n",
       "        vertical-align: middle;\n",
       "    }\n",
       "\n",
       "    .dataframe tbody tr th {\n",
       "        vertical-align: top;\n",
       "    }\n",
       "\n",
       "    .dataframe thead th {\n",
       "        text-align: right;\n",
       "    }\n",
       "</style>\n",
       "<table border=\"1\" class=\"dataframe\">\n",
       "  <thead>\n",
       "    <tr style=\"text-align: right;\">\n",
       "      <th></th>\n",
       "      <th>Algorithm</th>\n",
       "      <th>Min</th>\n",
       "      <th>Max</th>\n",
       "      <th>Mean</th>\n",
       "      <th>Median</th>\n",
       "      <th>STD</th>\n",
       "    </tr>\n",
       "  </thead>\n",
       "  <tbody>\n",
       "    <tr>\n",
       "      <th>0</th>\n",
       "      <td>LS</td>\n",
       "      <td>19.950424956466673</td>\n",
       "      <td>19.950424956466673</td>\n",
       "      <td>19.950424956466676</td>\n",
       "      <td>19.950424956466673</td>\n",
       "      <td>3.552713678800501e-15</td>\n",
       "    </tr>\n",
       "    <tr>\n",
       "      <th>1</th>\n",
       "      <td>HC</td>\n",
       "      <td>1.54303927149838</td>\n",
       "      <td>3.3212252736697363</td>\n",
       "      <td>2.6221354119067444</td>\n",
       "      <td>2.686242932614905</td>\n",
       "      <td>0.4621313146132937</td>\n",
       "    </tr>\n",
       "    <tr>\n",
       "      <th>2</th>\n",
       "      <td>SA</td>\n",
       "      <td>15.955400424244553</td>\n",
       "      <td>15.955400424244553</td>\n",
       "      <td>15.955400424244552</td>\n",
       "      <td>15.955400424244553</td>\n",
       "      <td>1.7763568394002505e-15</td>\n",
       "    </tr>\n",
       "  </tbody>\n",
       "</table>\n",
       "</div>"
      ],
      "text/plain": [
       "  Algorithm                 Min                 Max                Mean  \\\n",
       "0        LS  19.950424956466673  19.950424956466673  19.950424956466676   \n",
       "1        HC    1.54303927149838  3.3212252736697363  2.6221354119067444   \n",
       "2        SA  15.955400424244553  15.955400424244553  15.955400424244552   \n",
       "\n",
       "               Median                     STD  \n",
       "0  19.950424956466673   3.552713678800501e-15  \n",
       "1   2.686242932614905      0.4621313146132937  \n",
       "2  15.955400424244553  1.7763568394002505e-15  "
      ]
     },
     "execution_count": 292,
     "metadata": {},
     "output_type": "execute_result"
    }
   ],
   "source": [
    "B_sol_res_LS_Ack_st_res\n",
    "B_sol_res_HC_Ack_st_res\n",
    "B_sol_res_SA_Ack_st_res\n",
    "\n",
    "columns_lab = ['Algorithm','Min','Max','Mean','Median','STD']\n",
    "labels = np.array(['LS','HC','SA'])\n",
    "Min = np.array([np.min(B_sol_res_LS_Ack_st_res),np.min(B_sol_res_HC_Ack_st_res),np.min(B_sol_res_SA_Ack_st_res)])\n",
    "Max = np.array([np.max(B_sol_res_LS_Ack_st_res),np.max(B_sol_res_HC_Ack_st_res),np.max(B_sol_res_SA_Ack_st_res)])\n",
    "Mean = np.array([np.mean(B_sol_res_LS_Ack_st_res),np.mean(B_sol_res_HC_Ack_st_res),np.mean(B_sol_res_SA_Ack_st_res)])\n",
    "Median = np.array([np.median(B_sol_res_LS_Ack_st_res),np.median(B_sol_res_HC_Ack_st_res),np.median(B_sol_res_SA_Ack_st_res)])\n",
    "STD = np.array([np.std(B_sol_res_LS_Ack_st_res),np.std(B_sol_res_HC_Ack_st_res),np.std(B_sol_res_SA_Ack_st_res)])\n",
    "data = np.vstack([labels,Min,Max,Mean,Median,STD])\n",
    "df = pd.DataFrame(data)\n",
    "df = df.T\n",
    "df.columns = columns_lab\n",
    "df"
   ]
  },
  {
   "cell_type": "code",
   "execution_count": null,
   "id": "e4df9e69",
   "metadata": {},
   "outputs": [],
   "source": []
  },
  {
   "cell_type": "code",
   "execution_count": null,
   "id": "84617e32",
   "metadata": {},
   "outputs": [],
   "source": []
  }
 ],
 "metadata": {
  "kernelspec": {
   "display_name": "Python 3",
   "language": "python",
   "name": "python3"
  },
  "language_info": {
   "codemirror_mode": {
    "name": "ipython",
    "version": 3
   },
   "file_extension": ".py",
   "mimetype": "text/x-python",
   "name": "python",
   "nbconvert_exporter": "python",
   "pygments_lexer": "ipython3",
   "version": "3.8.8"
  },
  "toc": {
   "base_numbering": 1,
   "nav_menu": {},
   "number_sections": true,
   "sideBar": true,
   "skip_h1_title": false,
   "title_cell": "Table of Contents",
   "title_sidebar": "Contents",
   "toc_cell": false,
   "toc_position": {},
   "toc_section_display": true,
   "toc_window_display": false
  },
  "varInspector": {
   "cols": {
    "lenName": 16,
    "lenType": 16,
    "lenVar": 40
   },
   "kernels_config": {
    "python": {
     "delete_cmd_postfix": "",
     "delete_cmd_prefix": "del ",
     "library": "var_list.py",
     "varRefreshCmd": "print(var_dic_list())"
    },
    "r": {
     "delete_cmd_postfix": ") ",
     "delete_cmd_prefix": "rm(",
     "library": "var_list.r",
     "varRefreshCmd": "cat(var_dic_list()) "
    }
   },
   "types_to_exclude": [
    "module",
    "function",
    "builtin_function_or_method",
    "instance",
    "_Feature"
   ],
   "window_display": false
  }
 },
 "nbformat": 4,
 "nbformat_minor": 5
}
