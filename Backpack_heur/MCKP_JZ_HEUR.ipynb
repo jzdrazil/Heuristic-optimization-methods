{
 "cells": [
  {
   "cell_type": "code",
   "execution_count": 94,
   "id": "49f87fc6",
   "metadata": {},
   "outputs": [],
   "source": [
    "import numpy as np\n",
    "import pandas as pd\n",
    "import random as rn\n",
    "import itertools\n",
    "import time \n",
    "import matplotlib.pyplot as plt"
   ]
  },
  {
   "cell_type": "markdown",
   "id": "6908cecc",
   "metadata": {},
   "source": [
    "    Objem 1-50 (náhodně) \n",
    "    Cena 1-50 (náhodně)\n",
    "    Max objem = 300 (bereme v potaz 15 tříd)\n",
    "    Max cena = x"
   ]
  },
  {
   "cell_type": "markdown",
   "id": "a96605cf",
   "metadata": {},
   "source": [
    "# Random search"
   ]
  },
  {
   "cell_type": "code",
   "execution_count": 95,
   "id": "79e1258e",
   "metadata": {},
   "outputs": [],
   "source": [
    "def gen_classes(n_class,n_item):\n",
    "    classes = [ ]\n",
    "    for cl in range(n_class):\n",
    "        item_dic = { }\n",
    "        for it in range(n_item):\n",
    "            item_dic.update({it+1:[rn.randint(1,50),rn.randint(1,50)]})\n",
    "        classes.append(item_dic)\n",
    "    return classes\n",
    "\n",
    "def init_choice(it_classes):\n",
    "    init_comb, choi_ls = [ ], [ ]\n",
    "    for item in it_classes:\n",
    "        choice = rn.randint(1,len(item))\n",
    "        init_comb.append(item[choice])\n",
    "        choi_ls.append(choice)\n",
    "    return init_comb, choi_ls\n",
    "\n",
    "def new_comb(init_comb,n_item, it_classes):\n",
    "    end = False\n",
    "    classes, prob = [0]*len(init_comb), [(len(init_comb)//len(init_comb))/10]*len(init_comb)\n",
    "    classes = [classes[i]+i for i in range(len(classes))]\n",
    "    while end is False:\n",
    "        choice_idx, choice = rn.choices(classes, prob), rn.randint(1,n_item)\n",
    "        if init_comb[choice_idx[0]] != it_classes[choice_idx[0]][choice]:\n",
    "            init_comb[choice_idx[0]] = it_classes[choice_idx[0]][choice]\n",
    "            end = True\n",
    "    return init_comb\n",
    "\n",
    "def Random_search(n_class,n_item,max_c,n_it):\n",
    "    max_price, n_nei = 50, 10\n",
    "    it_classes = gen_classes(n_class,n_item)\n",
    "    init_comb, choi_ls = init_choice(it_classes)\n",
    "    B_sol, B_sol_ls = [0,300], [ ]\n",
    "    for it in range(n_it//n_nei):\n",
    "        for nei in range(n_nei):\n",
    "            ev, c_lim = list(map(lambda ele: ele[0],init_comb)), list(map(lambda ele: ele[1],init_comb))\n",
    "            ev, c_lim = sum(ev), sum(c_lim)\n",
    "            if ev > B_sol[0] and c_lim < 300:\n",
    "                B_sol = [ev,c_lim]\n",
    "            init_comb = new_comb(init_comb,n_item,it_classes)\n",
    "            B_sol_ls.append(B_sol[0])\n",
    "    return B_sol, B_sol_ls"
   ]
  },
  {
   "cell_type": "markdown",
   "id": "2ced650e",
   "metadata": {},
   "source": [
    "# Simulated Annealing"
   ]
  },
  {
   "cell_type": "code",
   "execution_count": 96,
   "id": "a4bc7070",
   "metadata": {},
   "outputs": [],
   "source": [
    "def gen_classes(n_class,n_item):\n",
    "    classes = [ ]\n",
    "    for cl in range(n_class):\n",
    "        item_dic = { }\n",
    "        for it in range(n_item):\n",
    "            item_dic.update({it+1:[rn.randint(1,50),rn.randint(1,50)]})\n",
    "        classes.append(item_dic)\n",
    "    return classes\n",
    "\n",
    "def init_choice(it_classes):\n",
    "    init_comb, choi_ls = [ ], [ ]\n",
    "    for item in it_classes:\n",
    "        choice = rn.randint(1,len(item))\n",
    "        init_comb.append(item[choice])\n",
    "        choi_ls.append(choice)\n",
    "    return init_comb, choi_ls\n",
    "\n",
    "def new_comb(init_comb,n_item, it_classes):\n",
    "    end = False\n",
    "    classes, prob = [0]*len(init_comb), [(len(init_comb)//len(init_comb))/10]*len(init_comb)\n",
    "    classes = [classes[i]+i for i in range(len(classes))]\n",
    "    while end is False:\n",
    "        choice_idx, choice = rn.choices(classes, prob), rn.randint(1,n_item)\n",
    "        if init_comb[choice_idx[0]] != it_classes[choice_idx[0]][choice]:\n",
    "            init_comb[choice_idx[0]] = it_classes[choice_idx[0]][choice]\n",
    "            end = True\n",
    "    return init_comb\n",
    "\n",
    "def Sim_ann(n_class,n_item,max_c,n_it):\n",
    "    max_price, n_nei = 50, 10\n",
    "    t_0 = n_it//n_nei\n",
    "    it_classes = gen_classes(n_class,n_item)\n",
    "    init_comb, choi_ls = init_choice(it_classes)\n",
    "    B_sol, B_sol_ls, step_sol = [0,300], [ ], [0,0]\n",
    "    for it in range(n_it//n_nei):\n",
    "        for nei in range(n_nei):\n",
    "            ev, c_lim = list(map(lambda ele: ele[0],init_comb)), list(map(lambda ele: ele[1],init_comb))\n",
    "            ev, c_lim = sum(ev), sum(c_lim)\n",
    "\n",
    "            delta_fx = ev - step_sol[0]\n",
    "            if delta_fx > 0 and c_lim < 300:\n",
    "                step_sol = [ev,c_lim]\n",
    "            if ev > B_sol[0] and c_lim < 300:\n",
    "                B_sol = [ev,c_lim]\n",
    "            else:\n",
    "                r = rn.uniform(0,1)\n",
    "                if r > np.power(np.e,-delta_fx/t_0):\n",
    "                    step_sol = [ev,c_lim]\n",
    "                    \n",
    "            t_0 = t_0-0.7*it       \n",
    "            init_comb = new_comb(init_comb,n_item,it_classes)\n",
    "            B_sol_ls.append(B_sol[0])\n",
    "    return B_sol, B_sol_ls"
   ]
  },
  {
   "cell_type": "code",
   "execution_count": 106,
   "id": "30781e8e",
   "metadata": {},
   "outputs": [
    {
     "name": "stdout",
     "output_type": "stream",
     "text": [
      "Celkova cena 571, Celkova kapacita 281\n"
     ]
    }
   ],
   "source": [
    "B_sol_SA, plot_y_SA = Sim_ann(15,3,300,50_000)\n",
    "print(f'Celkova cena {B_sol_SA[0]}, Celkova kapacita {B_sol_SA[1]}')"
   ]
  },
  {
   "cell_type": "code",
   "execution_count": 107,
   "id": "fce24f33",
   "metadata": {},
   "outputs": [
    {
     "name": "stdout",
     "output_type": "stream",
     "text": [
      "Celkova cena 544, Celkova kapacita 294\n"
     ]
    }
   ],
   "source": [
    "B_sol, plot_y = Random_search(15,3,300,50_000)\n",
    "print(f'Celkova cena {B_sol[0]}, Celkova kapacita {B_sol[1]}')"
   ]
  },
  {
   "cell_type": "markdown",
   "id": "fda25996",
   "metadata": {},
   "source": [
    "# 15 tříd  - 3 předměty"
   ]
  },
  {
   "cell_type": "code",
   "execution_count": 108,
   "id": "0b59f35d",
   "metadata": {},
   "outputs": [
    {
     "data": {
      "image/png": "[encoded data removed]",
      "text/plain": [
       "<Figure size 432x288 with 1 Axes>"
      ]
     },
     "metadata": {
      "needs_background": "light"
     },
     "output_type": "display_data"
    }
   ],
   "source": [
    "plot_x = [0]*50_000\n",
    "plot_x = [plot_x[i]+i for i in range(len(plot_x))]\n",
    "plt.plot(plot_x,plot_y, color = 'blue', label = 'Random search')\n",
    "plt.plot(plot_x,plot_y_SA, color = 'red', label = 'Simulated Annealing')\n",
    "plt.xlim(-800,51_000), plt.ylim(0,15*50)\n",
    "plt.xticks(size = 13), plt.yticks(size = 13)\n",
    "plt.xlabel('Number of evaluations', size = 14), plt.ylabel('Price [ ]', size = 14)\n",
    "plt.legend()\n",
    "plt.show()"
   ]
  },
  {
   "cell_type": "code",
   "execution_count": 127,
   "id": "1a88c153",
   "metadata": {},
   "outputs": [
    {
     "name": "stdout",
     "output_type": "stream",
     "text": [
      "Celkova cena 581, Celkova kapacita 260\n"
     ]
    }
   ],
   "source": [
    "B_sol_SA, plot_y_SA = Sim_ann(15,10,300,50_000)\n",
    "print(f'Celkova cena {B_sol_SA[0]}, Celkova kapacita {B_sol_SA[1]}')"
   ]
  },
  {
   "cell_type": "code",
   "execution_count": 128,
   "id": "193d728e",
   "metadata": {},
   "outputs": [
    {
     "name": "stdout",
     "output_type": "stream",
     "text": [
      "Celkova cena 549, Celkova kapacita 293\n"
     ]
    }
   ],
   "source": [
    "B_sol, plot_y = Random_search(15,10,300,50_000)\n",
    "print(f'Celkova cena {B_sol[0]}, Celkova kapacita {B_sol[1]}')"
   ]
  },
  {
   "cell_type": "markdown",
   "id": "24f2d607",
   "metadata": {},
   "source": [
    "# 15 tříd - 10 předmětů "
   ]
  },
  {
   "cell_type": "code",
   "execution_count": 129,
   "id": "53720aa9",
   "metadata": {},
   "outputs": [
    {
     "data": {
      "image/png": "[encoded data removed]",
      "text/plain": [
       "<Figure size 432x288 with 1 Axes>"
      ]
     },
     "metadata": {
      "needs_background": "light"
     },
     "output_type": "display_data"
    }
   ],
   "source": [
    "plot_x = [0]*50_000\n",
    "plot_x = [plot_x[i]+i for i in range(len(plot_x))]\n",
    "plt.plot(plot_x,plot_y, color = 'blue', label = 'Random search')\n",
    "plt.plot(plot_x,plot_y_SA, color = 'red', label = 'Simulated Annealing')\n",
    "plt.xlim(-800,51_000), plt.ylim(0,15*50)\n",
    "plt.xticks(size = 13), plt.yticks(size = 13)\n",
    "plt.xlabel('Number of evaluations', size = 14), plt.ylabel('Price [ ]', size = 14)\n",
    "plt.legend()\n",
    "plt.show()"
   ]
  },
  {
   "cell_type": "code",
   "execution_count": null,
   "id": "02179357",
   "metadata": {},
   "outputs": [],
   "source": []
  },
  {
   "cell_type": "code",
   "execution_count": null,
   "id": "d51f722f",
   "metadata": {},
   "outputs": [],
   "source": []
  },
  {
   "cell_type": "code",
   "execution_count": null,
   "id": "ecead4cb",
   "metadata": {},
   "outputs": [],
   "source": []
  }
 ],
 "metadata": {
  "kernelspec": {
   "display_name": "Python 3",
   "language": "python",
   "name": "python3"
  },
  "language_info": {
   "codemirror_mode": {
    "name": "ipython",
    "version": 3
   },
   "file_extension": ".py",
   "mimetype": "text/x-python",
   "name": "python",
   "nbconvert_exporter": "python",
   "pygments_lexer": "ipython3",
   "version": "3.8.8"
  },
  "toc": {
   "base_numbering": 1,
   "nav_menu": {},
   "number_sections": true,
   "sideBar": true,
   "skip_h1_title": false,
   "title_cell": "Table of Contents",
   "title_sidebar": "Contents",
   "toc_cell": false,
   "toc_position": {},
   "toc_section_display": true,
   "toc_window_display": false
  },
  "varInspector": {
   "cols": {
    "lenName": 16,
    "lenType": 16,
    "lenVar": 40
   },
   "kernels_config": {
    "python": {
     "delete_cmd_postfix": "",
     "delete_cmd_prefix": "del ",
     "library": "var_list.py",
     "varRefreshCmd": "print(var_dic_list())"
    },
    "r": {
     "delete_cmd_postfix": ") ",
     "delete_cmd_prefix": "rm(",
     "library": "var_list.r",
     "varRefreshCmd": "cat(var_dic_list()) "
    }
   },
   "types_to_exclude": [
    "module",
    "function",
    "builtin_function_or_method",
    "instance",
    "_Feature"
   ],
   "window_display": false
  }
 },
 "nbformat": 4,
 "nbformat_minor": 5
}
